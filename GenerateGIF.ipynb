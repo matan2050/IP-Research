{
 "cells": [
  {
   "cell_type": "code",
   "execution_count": 11,
   "metadata": {},
   "outputs": [],
   "source": [
    "from typing import List  #for asserting datatypes\n",
    "from PIL import Image    #for image handling\n",
    "import os"
   ]
  },
  {
   "cell_type": "code",
   "execution_count": 27,
   "metadata": {},
   "outputs": [],
   "source": [
    "def merge_layers(layers:List[Image.Image], dur: int) -> Image.Image:\n",
    "    result_file = 'placeholder.gif'\n",
    "    layers[0].save(result_file, \n",
    "                   save_all = True,\n",
    "                   append_images = layers[1:],\n",
    "                   optimize = False,\n",
    "                   duration = dur,\n",
    "                   loop = 0)\n",
    "    \n",
    "    returned_image = Image.open(result_file)\n",
    "    os.remove(result_file)\n",
    "    return returned_image\n"
   ]
  },
  {
   "cell_type": "code",
   "execution_count": 28,
   "metadata": {},
   "outputs": [],
   "source": [
    "path1 = 'Resources/GenerateGIF/stock1.jpg'\n",
    "path2 = 'Resources/GenerateGIF/stock2.jpg'\n",
    "path3 = 'Resources/GenerateGIF/stock3.jpg'\n",
    "\n",
    "img1 = Image.open(path1)\n",
    "img2 = Image.open(path2)\n",
    "img3 = Image.open(path3)"
   ]
  },
  {
   "cell_type": "code",
   "execution_count": 29,
   "metadata": {},
   "outputs": [],
   "source": [
    "SHOW_IMAGES = False\n",
    "\n",
    "if (SHOW_IMAGES):\n",
    "    img1.show()\n",
    "    img2.show()\n",
    "    img3.show()"
   ]
  },
  {
   "cell_type": "code",
   "execution_count": 30,
   "metadata": {},
   "outputs": [],
   "source": [
    "images = []\n",
    "images.append(img1)\n",
    "images.append(img2)\n",
    "images.append(img3)\n"
   ]
  },
  {
   "cell_type": "code",
   "execution_count": 31,
   "metadata": {},
   "outputs": [],
   "source": [
    "merged = merge_layers(images, 1000)"
   ]
  },
  {
   "cell_type": "code",
   "execution_count": 33,
   "metadata": {},
   "outputs": [],
   "source": [
    "SHOW_RESULT = True\n",
    "\n",
    "if (SHOW_RESULT):\n",
    "    merged.show()"
   ]
  },
  {
   "cell_type": "code",
   "execution_count": null,
   "metadata": {},
   "outputs": [],
   "source": []
  }
 ],
 "metadata": {
  "kernelspec": {
   "display_name": "Python 3 (ipykernel)",
   "language": "python",
   "name": "python3"
  },
  "language_info": {
   "codemirror_mode": {
    "name": "ipython",
    "version": 3
   },
   "file_extension": ".py",
   "mimetype": "text/x-python",
   "name": "python",
   "nbconvert_exporter": "python",
   "pygments_lexer": "ipython3",
   "version": "3.9.7"
  }
 },
 "nbformat": 4,
 "nbformat_minor": 4
}
